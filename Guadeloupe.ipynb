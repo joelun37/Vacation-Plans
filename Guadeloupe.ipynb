{
 "cells": [
  {
   "cell_type": "markdown",
   "metadata": {},
   "source": [
    "# Guadeloupe"
   ]
  },
  {
   "cell_type": "markdown",
   "metadata": {},
   "source": [
    "## Grande-Terre"
   ]
  },
  {
   "cell_type": "markdown",
   "metadata": {},
   "source": [
    "Résumé:\n",
    "\n",
    "\n",
    "1. Le sable de Sainte-Anne et Saint-François\n",
    "2. Une excursion jusqu’à la pointe des Châteaux\n",
    "3. Une excursion jusqu’à la pointe de la Grande-Vigie\n",
    "4. La Désirade\n",
    "5. Marie-Galante"
   ]
  },
  {
   "cell_type": "markdown",
   "metadata": {},
   "source": [
    "### La Désirade\n",
    "\n",
    "#### Se rendre à la Désirade\n",
    "\n",
    "- Archipel Ferries\n",
    "Départ depuis la Marina du François.\n",
    "Achat des billets depuis le comptoir la veille en hors saison mais s’y prendre à l’avance pendant la haute saison.\n",
    "\n",
    "Tarif : **30 euros** par personne.\n",
    "\n",
    "Départ à **7h30** et retour à **15H45** de la Désirade. Tous les jours. Trajet de **45 minutes**.\n",
    "\n",
    "#### Louer une voiture ou un scooter à la Désirade\n",
    "\n",
    "- Villeneuve Location\n",
    "97127 La Désirade | Tel : 05 90 20 04 26\n",
    "Location de voitures, voitures électriques, 4×4, quad, scooter, ...\n",
    "\n",
    "**35 euros la journée** pour une voiture avec **un fond d’essence à remettre** quand on la rend.\n",
    "La voiture est pas toute jeune, les portières et la malle ne ferment pas à clef et une vieille odeur de renfermé. Mais elle a fait son job et nous a trimballé dans tous les recoins de l’île (sauf le plateau).\n",
    "\n",
    "#### Randonner à la Désirade\n",
    "\n",
    "Il est totalement interdit de cueillir des plantes et de nourrir les animaux vu qu’on se trouve dans une réserve naturelle protégée.\n",
    "\n",
    "- Le sentier de la Pointe Doublée : durée 1H45 / A l’est de l’ile.\n",
    "Il traverse la savane avec ses cactus et longe une partie du littoral pour déboucher sur l’ancienne station météo, puis suivre la route D 207, passer devant le phare, l’ancienne cotonnerie et le cimetière marin.\n",
    "\n",
    "- Le sentier de Montana : durée 1H30 / A l’est de l’île.\n",
    "Inauguré en 2015, se sentier traverse la réserve géologique en partant de l’ancienne cotonnerie jusqu’à l’ancienne station météo. Possibilité de la faire à pied, à vélo ou en cheval.\n",
    "\n",
    "- Le sentier de la Grande Rivière : durée 4h aller et retour / du littoral sud au littoral nord\n",
    "Découverte de la côte nord escarpée en partant juste après la plage du Souffleur.\n",
    "\n",
    "- Le sentier du Grand Nord : durée 1h15 / au sud de l’île\n",
    "Départ à la Chapelle du Calvaire, découverte de la côte nord sauvage par la Porte d’Enfer et Grosse Pointe.\n",
    "\n",
    "- Le sentier des Eoliennes : durée 1h15 / centre de l’île\n",
    "Accès à partir de la RD207 ou la piste des montagnes. Panorama sur le parc des éoliennes et le lagon du souffleur.\n",
    "Conseils pratiques pour une journée à la Désirade\n",
    "\n",
    "#### Equipement\n",
    "\n",
    "Ne prendre que le strict minimum pour ne rien laisser dans les voitures (objets de valeur),\n",
    "Prévoir une casquette et de la crème solaire car il fait très chaud.\n",
    "Prévoir une bouteille d’eau et des baskets pour randonner (certains sentiers sont exposés en plein soleil). Attention si vous marchez dans la **Grande Savane** en tong, il y a plein de **petits cactus** au sol.\n",
    "\n",
    "Prévoir du **liquide pour les paiements**, la carte bancaire a tendance à mal passer par endroit.\n",
    "\n",
    "#### Se déplacer à la Désirade\n",
    "Si vous louez une voiture, roulez au pas. Les routes sont petites et il arrive souvent que des animaux traversent (iguanes, cabris, ...).\n",
    "Par temps de pluie, évitez de prendre toutes les routes escarpées notamment celle qui mène au Calvaire.\n",
    "\n",
    "#### Manger à la Désirade\n",
    "Hors saison, beaucoup d’établissement sont fermés. L’idéal est de manger à **Beauséjour sur la Plage à Fifi**, vous trouverez toujours un établissement ouvert.\n",
    "Ne tardez pas sur l’horaire, s’ils sont en fin de ravitaillement, il se peut que la carte soit réduite et qu’il y ait peu de boissons.\n",
    "\n",
    "#### Les iguanes\n",
    "Si vous croisez des iguanes, observez leur comportement ! S’ils hochent la tête et qu’ils balancent leur queue, c’est mauvais signe. Eloignez vous avant de vous faire fouetter..."
   ]
  },
  {
   "cell_type": "markdown",
   "metadata": {},
   "source": [
    "## Basse-Terre"
   ]
  },
  {
   "cell_type": "markdown",
   "metadata": {},
   "source": [
    "Résumé:\n",
    "\n",
    "1. Route de la Traversée\n",
    "2. Les trois chutes du Carbet\n",
    "3. Le parc du volcan de la Soufrière\n",
    "4. Le jardin botanique de Deshaies\n",
    "5. La plage de Grande-Anse\n",
    "6. Îles des Saintes\n",
    "7. De Sainte-Rose ou Vieux-Bourg, la réserve du Grand Cul-de-Sac Marin\n",
    "8. Passage par Pointe-à-Pitre et Mémorial ACTe de l’esclavage"
   ]
  }
 ],
 "metadata": {
  "kernelspec": {
   "display_name": "Python 3",
   "language": "python",
   "name": "python3"
  },
  "language_info": {
   "codemirror_mode": {
    "name": "ipython",
    "version": 3
   },
   "file_extension": ".py",
   "mimetype": "text/x-python",
   "name": "python",
   "nbconvert_exporter": "python",
   "pygments_lexer": "ipython3",
   "version": "3.6.10"
  }
 },
 "nbformat": 4,
 "nbformat_minor": 4
}
