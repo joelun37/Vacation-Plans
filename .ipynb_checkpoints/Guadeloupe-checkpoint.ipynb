{
 "cells": [
  {
   "cell_type": "markdown",
   "metadata": {},
   "source": [
    "# Guadeloupe"
   ]
  },
  {
   "cell_type": "markdown",
   "metadata": {},
   "source": [
    "## Budget\n",
    "\n",
    "*Grosso modo*, un séjour de 15 jours pour 2 personnes, tout compris (vol, voiture de location, hébergement et nourriture), oscille autour de **3,000 €** (sans trop se priver).\n",
    "\n",
    "- Les tarifs aériens varient de **450 à 700 €**\n",
    "- Location de voiture : compter **250 €** minimum la semaine\n",
    "- Budget prévisionnel par personne si on mange dehors une fois par jour, pour 15 jours: **225 €**\n",
    "\n",
    "### Restauration\n",
    "Les restaurants traditionnels sont souvent assez chers et avec un service vraiment longuet, sauf exception (compter environ **10 à 15 €** pour un plat). Le plus **économique** est de faire sa **popote** dans son gîte.\n",
    "\n",
    "Sinon, on trouve souvent des camions-bars ou de petits vendeurs de sandwichs sur les plages. Et puis il y a les fameux *lolos*, les petits restos locaux où l'on peut manger correctement pour **15 € environ**.\n",
    "\n",
    "- **Très bon marché** (sandwichs, petits plats ou pâtisseries à emporter) : moins de 10 €.\n",
    "- **Bon marché** : 10 à 15 €.\n",
    "- **Prix moyens** : 15 à 25 €.\n",
    "- **Chic** : 25 à 35 €.\n",
    "\n",
    "Les produits de consommation courante sont en général plus chers qu'en métropole (sauf les parfums et le rhum), notamment les produits laitiers et la viande.\n",
    "\n",
    "### Activités, sports et loisirs\n",
    "\n",
    "- Décider snorkelling ou plongée (réservations, prix, etc.)\n",
    "- Plongée a l'air compliqué\n",
    "- Randonnée, prévoir les chaussures de marche, etc. [Visiorando pour les trajets de rando](https://www.visorando.com/randonnee-guadeloupe.html).\n",
    "- Et faut-il réserver un expert?"
   ]
  },
  {
   "cell_type": "markdown",
   "metadata": {},
   "source": [
    "## Grande-Terre"
   ]
  },
  {
   "cell_type": "markdown",
   "metadata": {},
   "source": [
    "Résumé:\n",
    "\n",
    "\n",
    "1. Le sable de Sainte-Anne et Saint-François\n",
    "2. Une excursion jusqu’à la pointe des Châteaux\n",
    "3. Une excursion jusqu’à la pointe de la Grande-Vigie\n",
    "4. La Désirade\n",
    "5. Marie-Galante"
   ]
  },
  {
   "cell_type": "markdown",
   "metadata": {},
   "source": [
    "![GDP_est](./img/GDP_est.gif \"GDP_est\") "
   ]
  },
  {
   "cell_type": "markdown",
   "metadata": {},
   "source": [
    "### La Désirade\n",
    "\n",
    "#### Résumé\n",
    "\n",
    "- Tout seul: Environ **70 euros** par personne jusqu'à 15:45\n",
    "- Accompagné: **105 euros** par personne jusqu'à 17:00 (Journée tout compris à la Désirade avec baigande 1h30 à Petite Terre incluant transport, barbecue, boissons à volonté, équipement PMT (Palmes, masque, tuba))\n",
    "\n",
    "[Lien vers la page des gens qui ont visité](https://carnetdetipiment.com/2018/05/06/guadeloupe-la-desirade-que-voir-que-faire-sur-une-journee/) (attention, ils sont bavards)\n",
    "\n",
    "[Journées tout compris](https://www.la-desirade.com/visiter-ile-desirade.html)"
   ]
  },
  {
   "cell_type": "markdown",
   "metadata": {},
   "source": [
    "### Marie-Galante\n",
    "\n",
    "#### Résumé\n",
    "\n",
    "\n",
    "- Environ **200 euros** par personne pour deux jours, tout compris\n",
    " \n",
    "- **35 euros** par personne, aller-retour, réservation sur [Val Ferry](https://www.valferry.fr/fr/) ou [Express des Îles](https://www.express-des-iles.fr/)\n",
    "\n",
    "- Location voiture: **35 euros** par jour, contacter [Toto location](https://www.toto-location.com/tarifs.html)\n",
    "\n",
    "- [AirBNB à 70 euros la nuit](https://www.airbnb.fr/rooms/16189847?check_in=2020-12-21&check_out=2020-12-23&source_impression_id=p3_1581256950_bByAukw6SsJ5UrM%2F) mais ça peut aller jusqu'à **100 euros**\n",
    "\n",
    "- *Attention mardi et mercredi soir beaucoup de restaurants sont fermés, nous avons eu du mal à nous restaurer.*\n",
    "\n",
    "\n",
    "[Lien vers la page des gens qui ont visité](https://carnetdetipiment.com/2019/07/05/guadeloupe-visiter-marie-galante/)\n"
   ]
  },
  {
   "cell_type": "markdown",
   "metadata": {},
   "source": [
    "## Basse-Terre"
   ]
  },
  {
   "cell_type": "markdown",
   "metadata": {},
   "source": [
    "![GDP_ouest](./img/GDP_ouest.gif \"GDP_ouest\") "
   ]
  },
  {
   "cell_type": "markdown",
   "metadata": {},
   "source": [
    "Résumé:\n",
    "\n",
    "1. Route de la Traversée\n",
    "2. Les trois chutes du Carbet\n",
    "3. Le parc du volcan de la Soufrière\n",
    "4. Le jardin botanique de Deshaies\n",
    "5. La plage de Grande-Anse\n",
    "6. Îles des Saintes\n",
    "7. De Sainte-Rose ou Vieux-Bourg, la réserve du Grand Cul-de-Sac Marin\n",
    "8. Passage par Pointe-à-Pitre et Mémorial ACTe de l’esclavage"
   ]
  },
  {
   "cell_type": "markdown",
   "metadata": {},
   "source": [
    "## Les incontournables\n",
    "\n",
    "1. **Deshaies:** Petit village de pêcheurs, ses maisons en bois de style caraïbe et son jardin botanique classé Jardin remarquable\n",
    "\n",
    "2. **Grand Cul-de-Sac Marin:** Mangrove, forêts marécageuses, marais herbacés et îlets, à découvrir en kayak de mer\n",
    "\n",
    "3. **Plage de Grande-Anse:** Ourlée de cocotiers, bordée de baraques de pêcheurs en tôle et de barques colorées, l'une des plus belles plages de la Basse-Terre\n",
    "\n",
    "4. **Pointe-à-Pitre:** Une Ville d'art et d'histoire, avec de belles demeures créoles et de style colonial, intercalés de pittoresques cases en bois\n",
    "\n",
    "5. **Pointe de la Grande-Vigie:** Le spectacle impressionnant de falaises abruptes fouettées par une mer houleuse\n",
    "\n",
    "6. **Route de la Traversée:** Sa forêt tropicale humide, une forêt primaire, sorte de jungle préservée, sa faune et sa flore\n",
    "\n",
    "7. **Sainte-Anne:** Ses plages parmi les plus belles de la Guadeloupe, dans un lagon turquoise, avec sable clair et cocotiers\n",
    "\n",
    "8. **Saint-François:**: Un vieux village de pêcheurs aux cases rustiques en bois et tôle, et une marina bordée de restos branchés\n",
    "\n",
    "9. **Volcan de la Soufrière:** Randonnée entre les fumerolles, à travers l'une des forêts primaires les mieux conservées des Petites Antilles, menant au pied du dôme\n",
    "\n",
    "10. **La Désirade:** La plus authentique des îles de la Guadeloupe, encore préservée du tourisme de masse, une nature sauvage entre mer et montagne\n",
    "\n",
    "11. **Marie-Galante:** Quelques-unes des plus belles plages de l'archipel de la Guadeloupe, l'île de la canne à sucre par excellence, au mode de vie resté rural\n",
    "\n",
    "12. **Les Saintes:** Dans l'ambiance d'un village de pêcheurs, Terre-de-Haut, sa baie aux eaux turquoise et son pain de sucre, et sept îlets rocailleux"
   ]
  }
 ],
 "metadata": {
  "kernelspec": {
   "display_name": "Python 3",
   "language": "python",
   "name": "python3"
  },
  "language_info": {
   "codemirror_mode": {
    "name": "ipython",
    "version": 3
   },
   "file_extension": ".py",
   "mimetype": "text/x-python",
   "name": "python",
   "nbconvert_exporter": "python",
   "pygments_lexer": "ipython3",
   "version": "3.6.10"
  }
 },
 "nbformat": 4,
 "nbformat_minor": 4
}
