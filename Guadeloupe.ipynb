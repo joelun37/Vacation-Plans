{
 "cells": [
  {
   "cell_type": "markdown",
   "metadata": {},
   "source": [
    "# Guadeloupe"
   ]
  },
  {
   "cell_type": "markdown",
   "metadata": {},
   "source": [
    "## Grande-Terre"
   ]
  },
  {
   "cell_type": "markdown",
   "metadata": {},
   "source": [
    "Résumé:\n",
    "\n",
    "\n",
    "1. Le sable de Sainte-Anne et Saint-François\n",
    "2. Une excursion jusqu’à la pointe des Châteaux\n",
    "3. Une excursion jusqu’à la pointe de la Grande-Vigie\n",
    "4. La Désirade\n",
    "5. Marie-Galante\n"
   ]
  },
  {
   "cell_type": "markdown",
   "metadata": {},
   "source": [
    "## Basse-Terre"
   ]
  },
  {
   "cell_type": "markdown",
   "metadata": {},
   "source": [
    "\n",
    "1. Route de la Traversée\n",
    "2. Les trois chutes du Carbet\n",
    "3. Le parc du volcan de la Soufrière\n",
    "4. Le jardin botanique de Deshaies\n",
    "5. La plage de Grande-Anse\n",
    "6. Îles des Saintes\n",
    "    De Sainte-Rose ou Vieux-Bourg, la réserve du Grand Cul-de-Sac Marin se découvre de toutes les manières qu’il soit.\n",
    "    Passage obligé par Pointe-à-Pitre et son passionnant Mémorial ACTe de l’esclavage\n"
   ]
  }
 ],
 "metadata": {
  "kernelspec": {
   "display_name": "Python 3",
   "language": "python",
   "name": "python3"
  },
  "language_info": {
   "codemirror_mode": {
    "name": "ipython",
    "version": 3
   },
   "file_extension": ".py",
   "mimetype": "text/x-python",
   "name": "python",
   "nbconvert_exporter": "python",
   "pygments_lexer": "ipython3",
   "version": "3.6.10"
  }
 },
 "nbformat": 4,
 "nbformat_minor": 4
}
