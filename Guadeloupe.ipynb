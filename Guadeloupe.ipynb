{
 "cells": [
  {
   "cell_type": "markdown",
   "metadata": {},
   "source": [
    "# Guadeloupe"
   ]
  },
  {
   "cell_type": "markdown",
   "metadata": {},
   "source": [
    "## Budget\n",
    "\n",
    "*Grosso modo*, un séjour de 15 jours pour 2 personnes, tout compris (vol, voiture de location, hébergement et nourriture), oscille autour de **3 000 €** (sans trop se priver).\n",
    "\n",
    "- Les tarifs aériens varient de **450 à 700 €**\n",
    "- Location de voiture : compter **250 €** minimum la semaine\n",
    "- Budget prévisionnel par personne si on mange dehors une fois par jour, pour 15 jours: **225 €**\n",
    "\n",
    "### Restauration\n",
    "Les restaurants traditionnels sont souvent assez chers et avec un service vraiment longuet, sauf exception (compter environ **10 à 15 €** pour un plat). Le plus **économique** est de faire sa **popote** dans son gîte.\n",
    "\n",
    "Sinon, on trouve souvent des camions-bars ou de petits vendeurs de sandwichs sur les plages. Et puis il y a les fameux *lolos*, les petits restos locaux où l'on peut manger correctement pour **15 € environ**.\n",
    "\n",
    "- **Très bon marché** (sandwichs, petits plats ou pâtisseries à emporter) : moins de 10 €.\n",
    "- **Bon marché** : 10 à 15 €.\n",
    "- **Prix moyens** : 15 à 25 €.\n",
    "- **Chic** : 25 à 35 €.\n",
    "\n",
    "Les produits de consommation courante sont en général plus chers qu'en métropole (sauf les parfums et le rhum), notamment les produits laitiers et la viande.\n",
    "\n"
   ]
  },
  {
   "cell_type": "markdown",
   "metadata": {},
   "source": [
    "## Grande-Terre"
   ]
  },
  {
   "cell_type": "markdown",
   "metadata": {},
   "source": [
    "Résumé:\n",
    "\n",
    "\n",
    "1. Le sable de Sainte-Anne et Saint-François\n",
    "2. Une excursion jusqu’à la pointe des Châteaux\n",
    "3. Une excursion jusqu’à la pointe de la Grande-Vigie\n",
    "4. La Désirade\n",
    "5. Marie-Galante"
   ]
  },
  {
   "cell_type": "markdown",
   "metadata": {},
   "source": [
    "### La Désirade\n",
    "\n",
    "#### Résumé\n",
    "\n",
    "- Tout seul: Environ **70 euros** par personne jusqu'à 15:45\n",
    "- Accompagné: **105 euros** par personne jusqu'à 17:00 (Journée tout compris à la Désirade avec baigande 1h30 à Petite Terre incluant transport, barbecue, boissons à volonté, équipement PMT (Palmes, masque, tuba))\n",
    "\n",
    "[Lien vers la page des gens qui ont visité](https://carnetdetipiment.com/2018/05/06/guadeloupe-la-desirade-que-voir-que-faire-sur-une-journee/)\n",
    "\n",
    "[Journées tout compris](https://www.la-desirade.com/visiter-ile-desirade.html)"
   ]
  },
  {
   "cell_type": "markdown",
   "metadata": {},
   "source": [
    "### Marie-Galante\n",
    "\n",
    "#### Résumé\n",
    "\n",
    "\n",
    "- Environ **200 euros** par personne et par jour, tout compris\n",
    " \n",
    "- **35 euros** par personne, aller-retour, réservation sur [Val Ferry](https://www.valferry.fr/fr/) ou [Express des Îles](https://www.express-des-iles.fr/)\n",
    "\n",
    "- Location voiture: **35 euros** par jour, contacter [Toto location](https://www.toto-location.com/tarifs.html)\n",
    "\n",
    "- [AirBNB à 50 euros la nuit](https://www.airbnb.fr/rooms/16189847?check_in=2020-12-21&check_out=2020-12-23&source_impression_id=p3_1581256950_bByAukw6SsJ5UrM%2F) mais ça peut aller jusqu'à **100 euros**\n",
    "\n",
    "- *Attention mardi et mercredi soir beaucoup de restaurants sont fermés, nous avons eu du mal à nous restaurer.*\n",
    "\n",
    "\n",
    "[Lien vers la page des gens qui ont visité](https://carnetdetipiment.com/2019/07/05/guadeloupe-visiter-marie-galante/)\n"
   ]
  },
  {
   "cell_type": "markdown",
   "metadata": {},
   "source": [
    "## Basse-Terre"
   ]
  },
  {
   "cell_type": "markdown",
   "metadata": {},
   "source": [
    "Résumé:\n",
    "\n",
    "1. Route de la Traversée\n",
    "2. Les trois chutes du Carbet\n",
    "3. Le parc du volcan de la Soufrière\n",
    "4. Le jardin botanique de Deshaies\n",
    "5. La plage de Grande-Anse\n",
    "6. Îles des Saintes\n",
    "7. De Sainte-Rose ou Vieux-Bourg, la réserve du Grand Cul-de-Sac Marin\n",
    "8. Passage par Pointe-à-Pitre et Mémorial ACTe de l’esclavage"
   ]
  },
  {
   "cell_type": "markdown",
   "metadata": {},
   "source": [
    "## Articles détaillés\n",
    "\n",
    "### Marie-Galante\n",
    "\n",
    "Marie Galante est certainement l’île la plus authentique des Caraïbes ! C’est la réflexion que je me suis faite après avoir embarquée à bord de notre ferry pour rejoindre Pointe-à-Pitre. Je ne sais pas si vous vous en souvenez, mais nous avons passé 3 semaines à découvrir les moindres recoins de la Guadeloupe. Un de nos plus beaux voyages à deux et qui nous a conforté dans l’idée que les Antilles, une fois qu’on y va, on y revient forcément !\n",
    "\n",
    "L’archipel de la Guadeloupe est un véritable petit trésor qui cache une multitude d’île à l’identité bien marquée. Après la Désirade et Petite-Terre, aujourd’hui je vous amène une journée sur l’île aux Cent Moulins. Un passage express certes mais qui nous a donné envie de revenir ! Vous trouverez ici nos idées de balades, nos coups de coeur et surtout nos conseils pratiques pour visiter Marie Galante.\n",
    "\n",
    "Notre journée à Marie Galante, l’île aux Cent Moulins\n",
    "\n",
    "6H25. Levée aux aurores pour rejoindre le port de Pointe-à-Pitre ce jeudi matin. Après notre virée à la Désirade, aujourd’hui nous allons passer la journée à Marie-Galante. Malgré la fatigue, nous attendons avec impatience d’embarquer à bord de l’Express des Îles. Mais il va falloir s’armer de patience : il faut savoir qu’il y a beaucoup de monde sur ces liaisons le mardi et le jeudi en raison des réductions. En plus les bornes sont en panne, heureusement que nous avons retiré nos billets la veille et que nous sommes arrivés une heure en avance pour être sûr de monter à bord.\n",
    "\n",
    "Il est 8H15. L’Express des Îles s’éloigne des côtes en laissant un spectacle de désolation derrière lui. Comme vous le savez, nous sommes arrivés en Guadeloupe deux semaines après le passage de l’ouragan Maria qui a fait pas mal de dégâts en septembre 2017. La végétation a repris des couleurs mais les bateaux échoués sont là et nous rappellent comment les Antilles ont été durement touchées notamment Saint-Martin et la Dominique.\n",
    "\n",
    "La traversée dure autant que la précédente. Une heure plus tard, nous apercevons au loin les contours de Marie-Galante que l’on surnomme “La Grande Galette” en raison de sa forme. En tout cas, c’est une véritable explosion de couleurs : entre le ciel bleu et la couleur de l’eau, on se dit qu’on est arrivé au paradis.\n",
    "\n",
    "Le petit port est à Grand Bourg, le chef-lieu de l’île. C’est ici même que vous trouverez tout ce qu’il vous faut en basse saison : banque, pharmacie, supérette, poste, loueur de voiture … Nous récupérons notre moyen de locomotion et partons vite explorer le reste de l’île. Et oui, nous n’avons pas beaucoup de temps devant nous ! En semaine, le bateau repart pour Pointe-à-Pitre à 16H, c’est plutôt court comme délai mais comme on a pas le choix, on fait avec.\n",
    "\n",
    "En traversant Grand-Bourg, les cases créoles en bois côtoient les bâtiments en béton. Colorées ou délabrées, voilà tout le charme bigarré des Antilles. Les habitants sont  chaleureux, souriants et respirent la joie de vivre. Un trait de caractère qui nous a bien manqué lorsqu’on est rentré en métropole après avoir vécu 4 ans en Martinique. D’ailleurs je vous avoue qu’on était totalement déprimé quand on a du reprendre l’avion pour rentrer chez nous.\n",
    "\n",
    "Ici règne la simplicité un peu comme si le temps s’était arrêté : sur la route du littoral, nous croisons des cabrouets (ce sont des charrettes en bois tirées par des boeufs). Les champs de canne à sucre défilent sous nos yeux tandis que les pic boeuf tournoient au dessus des bêtes qui paissent dans la savane.\n",
    "\n",
    "Petit arrêt express à l’Habitation Roussel Trianon, une ancienne sucrerie de la fin du XVIIème siècle. Elle se situe en bord de route entre Saint-Louis et Grand Bourg. L’accès est gratuit et permet de comprendre l’histoire du site et le fonctionnement de l’habitation.\n",
    "\n",
    "La Distillerie Poisson du Père Labat est la seule rhumerie qu’on visitera de la journée par faute de temps et (aussi) d’organisation … C’est même un incontournable de l’île : en 1860, la famille Poisson fonda une sucrerie qui devint une distillerie en 1916 suite au rachat d’Edouard Rameau. Ce petit domaine artisanal et pittoresque produit 300 000 litres de rhum à l’année. La visite est totalement libre et gratuite, tantôt on se promène entre les cuves et les colonnes de distillation, tantôt on côtoie le personnel qui répond avec plaisir à nos questions. Après une dégustation et l’achat de bouteilles, nous repartons en direction de Saint-Louis.\n",
    "+ Infos Distillerie Labat\n",
    "\n",
    "La bourgade de Saint-Louis est visiblement déserte. C’est l’avantage de venir hors période touristique. Nous décidons de longer le front de mer et tombons sur une petite ruelle colorée où les cases créoles s’alignent les unes après les autres.\n",
    "\n",
    "Nous remontons ensuite le nord de la côte. Ce coin est plus sauvage, authentique et surtout désert. Les plages paradisiaques s’enchainent, les cocotiers bordent les routes et le soleil toujours plus haut nous assomme. On transpire comme pas possible, il est temps de faire une petite pause. L’ anse Canot sera notre point de chute ! Certainement une des plus belles plages de l’île : du sable doré à perte de vue, une eau translucide aux milles nuances de bleu et des raisiniers pour se mettre à l’ombre. Le cadre est juste parfait. Je pense que si on avait pas eu quelques jours de plus, je me serai posée là toute la journée.\n",
    "\n",
    "Sur le chemin vers Gueule Grand Gouffre, une autre anse retient notre attention : c’est la plage de Vieux Fort. Au loin, on voit même un minuscule petit îlet du même nom fait de roche et de végétation. Un contraste plutôt détonnant au milieu de cette mer azurée. Elle a l’avantage d’être aménagée mais pour ce qui est de l’ombre, ce n’est pas forcément le meilleur spot avec des enfants.\n",
    "\n",
    "Nous voilà arrivés sur un des plus beaux sites naturels de Marie Galante : Gueule Grand Gouffre. A ne manquer sous aucun prétexte ! En marchant quelques minutes depuis le parking (attention, la route est un peu chaotique), on tombe sur une immense cavité creusée par la mer. Une sorte de gouffre à ciel ouvert de 50 mètres de diamètre et de 30 mètres de haut au niveau de l’arche. Il est d’ailleurs strictement interdit de monter dessus d’où les barrières de sécurité car la roche est extrêmement friable. En tout cas, ce point de vue est vraiment d’une exceptionnelle beauté !\n",
    "\n",
    " \n",
    "\n",
    " \n",
    "\n",
    "Direction Capesterre un de mes coups de coeur ! Ce petit bourg de pêcheur haut en couleur se trouve sur la côte Est de l’île. C’est ici même que se trouve la superbe plage de la Feuillère : le cadre est posé, entre le lagon et les cocotiers, c’est la plage paradisiaque par excellence. Attention toutefois aux chutes de noix de coco !\n",
    "\n",
    "Si vous en avez l’occasion, on vous recommande l’anse Feuillard la plage la plus sauvage de Marie Galante. On nous l’a conseillé à de nombreuses reprises. Pour y accéder, il faut marcher une vingtaine de minutes au départ de Capesterre. Il y a très peu d’ombres mais il y a deux cabanes en bois à la Robinson Crusoé ! Et surtout les fonds marins sont à tomber dans le coin alors n’oubliez pas vos masques et tubas.\n",
    "\n",
    "Avant de partir, nous prenons un peu de hauteur pour profiter d’un point de vue sympa sur le bourg. Il y a pas à dire, c’est vraiment très beau par ici !\n",
    "\n",
    "Sur la route, nous passons devant l’Habitation Murat. Il faut savoir qu’elle cache une histoire bien sombre : en 1839, le domaine était en fait la plus grosse plantation de canne à sucre de Guadeloupe avec plus de 207 esclaves ! Depuis 1979, on y trouve désormais un écomusée des traditions  et arts populaires de l’île.\n",
    "+ Infos Habitation Murat\n",
    "\n",
    "On décide de pousser jusqu’à la fameuse Distillerie Bielle. Mauvaise idée ! En arrivant, nous découvrons qu’elle est fermée. Et oui, il faut savoir que presque toutes les rhumeries de l’île n’ouvrent que le matin (j’en profite pour vous demandez si vous savez le nombre exact de distillerie sur l’île ? Il y en a 3 : Labat, Bielle et Bellevue). Tant pis pour nous, on rebrousse donc chemin et tombons sur le Moulin de Bézard, un moulin à vent agricole typique des Caraïbes.\n",
    "+ Infos Distillerie Bieille\n",
    "+ Infos Distillerie Bellevue\n",
    "\n",
    "Dernier détour jusqu’à la Route des Galeries pour observer la Pointe Tali. Le coin est désert, c’est tellement beau et primaire. Balayée par les vents, ici la nature est à l’état brut. L’air iodé chatouille nos narines. Les vagues se projettent avec force sur la côte rocheuse. On entend l’écume bouillonner.\n",
    "\n",
    "On profite du spectacle quelques instants avant de reprendre le chemin du retour. Il est déjà 15h45, il est temps de rejoindre le port pour embarquer à bord du ferry qui nous ramènera à Pointe-à-Pitre.\n",
    "\n",
    " \n",
    "Marie Galante – Informations pratiques\n",
    "Quelle durée prévoir pour visiter Marie Galante ?\n",
    "\n",
    "L’idéal est d’y rester 3 jours ! Au moins pour faire le tour complet de l’île, profiter tranquillement des plages, faire un peu de snorkeling, assister à un coucher de soleil, sympathiser avec les locaux et faire un arrêt à la Maison de l’Indigo. Mais si vous n’avez pas beaucoup de temps, une journée permet aussi de se faire une petite idée de l’ambiance générale. En tout cas, ça nous a donné envie d’y revenir !\n",
    "Comment aller à Marie Galante ?\n",
    "\n",
    "Pour rejoindre Marie Galante, il faut prendre le ferry. Il en existe deux : Val Ferry et Express des Îles. Pour le trajet, nous avons choisi la compagnie Express Des Îles. Les billets s’achètent sur internet puis on retire les tickets à l’une des bornes (allez y la veille car le jour même, c’était en panne et il y avait foule). Il faut savoir que le jeudi et le mardi, il y a des promotions intéressantes sur les trajets : 20€ par personne aller / retour. Pensez à bien réserver à l’avance car il y a souvent du monde sur ces lignes. Le trajet dure à peu près une heure : départ vers 8H15 et retour à 16H.\n",
    "Comment circuler à Marie Galante ?\n",
    "\n",
    "On vous conseille vivement de louer une voiture ou un scooter pour explorer librement Marie Galante. Déjà parce que vous visitez l’île à votre rythme et vous n’êtes pas dépendant des tours opérateurs qui font des sorties groupées à bord de gros véhicule où les gens sont entassés les uns sur les autres.\n",
    "\n",
    "Le mieux est de prendre une petite voiture car par endroit la route peut-être défoncée. Et qui plus est, en scooter vous avez plus de chance d’attraper un joli coup de soleil et de vous embêter avec vos affaires.\n",
    "\n",
    "Nous avons loué notre voiture chez Toto Location en les appelant quelques jours avant. Elle n’est pas toute neuve mais elle a fait son job en nous trimbalant dans tous les recoins de l’île. Le tarif est de 35€. Il faut avoir le permis depuis plus de 2 ans et avoir plus de 23 ans. Paiement par CB.\n",
    "Où dormir à Marie Galante ?\n",
    "\n",
    "Pensez à regarder les offres d’hébergements chez Airbnb ou Booking (en cliquant sur ces liens, vous avez – 25€ chez Airbnb dès la première réservation).\n",
    "Où manger à Marie Galante ?\n",
    "\n",
    "Il faut savoir qu’en basse saison, pas mal d’établissements sont fermés. Comme on avait que quelques heures devant nous, nous avons acheté des sandwichs à Grand Bourg chez Ornata. C’est bon et pas cher ! Par contre, n’attendez pas le dernier moment pour y aller vu qu’il n’y en a pas beaucoup d’ouvert, il y avait la queue.\n",
    "Nos conseils pour bien visiter Marie Galante\n",
    "\n",
    "    Ne vous encombrez pas d’affaires inutiles surtout si vous louez un scooter. Voyagez léger !\n",
    "    Pensez à prendre casquette, maillot, serviette et de la crème solaire (protectrice des océans biensur),\n",
    "    Prévoyez un peu de liquide pour payer le repas de midi ou des prestations. Les commerçants ne prennent pas tous les cartes bleues.\n",
    "    Si vous venez pour la journée, le mieux est de prendre un pique-nique pour ne pas perdre de temps à manger dans un restaurant (le service n’est pas forcément très rapide),\n",
    "    En basse saison, certaines activités ou établissements sont fermés ou ont des horaires plus courtes. Renseignez vous avant !\n",
    "    Privilégiez la visite des distilleries le matin, l’après-midi elles sont en général fermées.\n",
    "    Si vous louez une voiture, réservez en avance surtout si vous avez besoin de sièges auto."
   ]
  },
  {
   "cell_type": "code",
   "execution_count": null,
   "metadata": {},
   "outputs": [],
   "source": []
  }
 ],
 "metadata": {
  "kernelspec": {
   "display_name": "Python 3",
   "language": "python",
   "name": "python3"
  },
  "language_info": {
   "codemirror_mode": {
    "name": "ipython",
    "version": 3
   },
   "file_extension": ".py",
   "mimetype": "text/x-python",
   "name": "python",
   "nbconvert_exporter": "python",
   "pygments_lexer": "ipython3",
   "version": "3.6.10"
  }
 },
 "nbformat": 4,
 "nbformat_minor": 4
}
